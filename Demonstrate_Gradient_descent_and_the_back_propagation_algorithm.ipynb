{
  "nbformat": 4,
  "nbformat_minor": 0,
  "metadata": {
    "colab": {
      "provenance": []
    },
    "kernelspec": {
      "name": "python3",
      "display_name": "Python 3"
    },
    "language_info": {
      "name": "python"
    }
  },
  "cells": [
    {
      "cell_type": "code",
      "execution_count": 23,
      "metadata": {
        "id": "HR58kbgUnKQ9"
      },
      "outputs": [],
      "source": [
        "# Demonstrate Gradient descent and the back propagation algorithm\n",
        "# Solving using 2 ways basic function and with framework\n",
        "\n",
        "\n",
        "\n",
        "import numpy as np\n",
        "import matplotlib.pyplot as plt\n"
      ]
    },
    {
      "cell_type": "code",
      "source": [
        "# Generate synthetic data\n",
        "np.random.seed(42)\n",
        "X = np.random.rand(2, 100)  # Two features, 100 data points\n",
        "Y = np.random.randint(0, 2, (1, 100))  # Binary target\n"
      ],
      "metadata": {
        "id": "eFPYRX9Indf1"
      },
      "execution_count": 24,
      "outputs": []
    },
    {
      "cell_type": "code",
      "source": [
        "# Hyperparameters\n",
        "input_size = X.shape[0]\n",
        "hidden_size = 4\n",
        "output_size = 1\n",
        "learning_rate = 0.01\n",
        "epochs = 1000\n",
        "\n"
      ],
      "metadata": {
        "id": "IJiPC2DXng_n"
      },
      "execution_count": 25,
      "outputs": []
    },
    {
      "cell_type": "code",
      "source": [
        "# Sigmoid activation function and its derivative\n",
        "def sigmoid(x):\n",
        "    return 1 / (1 + np.exp(-x))\n",
        "\n",
        "def sigmoid_derivative(x):\n",
        "    return x * (1 - x)\n"
      ],
      "metadata": {
        "id": "48jwYwnLnk1l"
      },
      "execution_count": 26,
      "outputs": []
    },
    {
      "cell_type": "code",
      "source": [
        "# Initialize parameters\n",
        "def initialize_parameters(input_size, hidden_size, output_size):\n",
        "    np.random.seed(42)\n",
        "    W_hidden = np.random.rand(hidden_size, input_size)\n",
        "    b_hidden = np.zeros((hidden_size, 1))\n",
        "    W_output = np.random.rand(output_size, hidden_size)\n",
        "    b_output = np.zeros((output_size, 1))\n",
        "\n",
        "    return W_hidden, b_hidden, W_output, b_output\n",
        "\n"
      ],
      "metadata": {
        "id": "9CdZbc_4nq3h"
      },
      "execution_count": 27,
      "outputs": []
    },
    {
      "cell_type": "code",
      "source": [
        "# Forward propagation\n",
        "def forward_propagation(X, W_hidden, b_hidden, W_output, b_output):\n",
        "    Z_hidden = np.dot(W_hidden, X) + b_hidden\n",
        "    A_hidden = sigmoid(Z_hidden)\n",
        "    Z_output = np.dot(W_output, A_hidden) + b_output\n",
        "    A_output = sigmoid(Z_output)\n",
        "\n",
        "    return Z_hidden, A_hidden, Z_output, A_output\n",
        "\n"
      ],
      "metadata": {
        "id": "aIUFxowXntxG"
      },
      "execution_count": 28,
      "outputs": []
    },
    {
      "cell_type": "code",
      "source": [
        "# Compute loss\n",
        "def compute_loss(A_output, Y):\n",
        "    m = Y.shape[1]\n",
        "    loss = - (1 / m) * np.sum(Y * np.log(A_output) + (1 - Y) * np.log(1 - A_output))\n",
        "    return loss\n",
        "\n"
      ],
      "metadata": {
        "id": "QUbAHRIgnwjv"
      },
      "execution_count": 29,
      "outputs": []
    },
    {
      "cell_type": "code",
      "source": [
        "# Backward propagation\n",
        "def backward_propagation(X, Y, Z_hidden, A_hidden, Z_output, A_output, W_output):\n",
        "    m = Y.shape[1]\n",
        "\n",
        "    dZ_output = A_output - Y\n",
        "    dW_output = (1 / m) * np.dot(dZ_output, A_hidden.T)\n",
        "    db_output = (1 / m) * np.sum(dZ_output, axis=1, keepdims=True)\n",
        "\n",
        "    dZ_hidden = np.dot(W_output.T, dZ_output) * sigmoid_derivative(A_hidden)\n",
        "    dW_hidden = (1 / m) * np.dot(dZ_hidden, X.T)\n",
        "    db_hidden = (1 / m) * np.sum(dZ_hidden, axis=1, keepdims=True)\n",
        "\n",
        "    return dW_hidden, db_hidden, dW_output, db_output\n",
        "\n"
      ],
      "metadata": {
        "id": "U7BwK3aEn5ZY"
      },
      "execution_count": 30,
      "outputs": []
    },
    {
      "cell_type": "code",
      "source": [
        "# Update parameters\n",
        "def update_parameters(W_hidden, b_hidden, W_output, b_output, dW_hidden, db_hidden, dW_output, db_output, learning_rate):\n",
        "    W_hidden -= learning_rate * dW_hidden\n",
        "    b_hidden -= learning_rate * db_hidden\n",
        "    W_output -= learning_rate * dW_output\n",
        "    b_output -= learning_rate * db_output\n",
        "\n",
        "    return W_hidden, b_hidden, W_output, b_output\n",
        "\n"
      ],
      "metadata": {
        "id": "du3Ta4ZPn7x5"
      },
      "execution_count": 31,
      "outputs": []
    },
    {
      "cell_type": "code",
      "source": [
        "# Train the neural network\n",
        "def train_neural_network(X, Y, hidden_size, output_size, learning_rate, epochs):\n",
        "    input_size = X.shape[0]\n",
        "    W_hidden, b_hidden, W_output, b_output = initialize_parameters(input_size, hidden_size, output_size)\n",
        "\n",
        "    for epoch in range(epochs):\n",
        "        # Forward propagation\n",
        "        Z_hidden, A_hidden, Z_output, A_output = forward_propagation(X, W_hidden, b_hidden, W_output, b_output)\n",
        "\n",
        "        # Compute loss\n",
        "        loss = compute_loss(A_output, Y)\n",
        "\n",
        "        # Backward propagation\n",
        "        dW_hidden, db_hidden, dW_output, db_output = backward_propagation(X, Y, Z_hidden, A_hidden, Z_output, A_output, W_output)\n",
        "\n",
        "        # Update parameters\n",
        "        W_hidden, b_hidden, W_output, b_output = update_parameters(W_hidden, b_hidden, W_output, b_output, dW_hidden, db_hidden, dW_output, db_output, learning_rate)\n",
        "\n",
        "        # Print the loss every 100 epochs\n",
        "        if epoch % 100 == 0:\n",
        "            print(f\"Epoch {epoch}, Loss: {loss}\")\n",
        "\n",
        "    return W_hidden, b_hidden, W_output, b_output\n",
        "\n"
      ],
      "metadata": {
        "id": "C6M0ddkyn-X3"
      },
      "execution_count": 32,
      "outputs": []
    },
    {
      "cell_type": "code",
      "source": [
        "# Train the neural network\n",
        "trained_parameters = train_neural_network(X, Y, hidden_size, output_size, learning_rate, epochs)\n",
        "\n",
        "# Test the trained network with new data\n",
        "def predict(X, W_hidden, b_hidden, W_output, b_output):\n",
        "    _, _, _, A_output = forward_propagation(X, W_hidden, b_hidden, W_output, b_output)\n",
        "    predictions = (A_output > 0.5).astype(int)\n",
        "    return predictions\n",
        "\n"
      ],
      "metadata": {
        "colab": {
          "base_uri": "https://localhost:8080/"
        },
        "id": "3gsIT4wboGpL",
        "outputId": "87513566-bed4-4991-f37d-a5650446a674"
      },
      "execution_count": 33,
      "outputs": [
        {
          "output_type": "stream",
          "name": "stdout",
          "text": [
            "Epoch 0, Loss: 0.8736023253758296\n",
            "Epoch 100, Loss: 0.7532757451668407\n",
            "Epoch 200, Loss: 0.7112029721695292\n",
            "Epoch 300, Loss: 0.6980654752546296\n",
            "Epoch 400, Loss: 0.6941216965070645\n",
            "Epoch 500, Loss: 0.6929334771355903\n",
            "Epoch 600, Loss: 0.6925538592701413\n",
            "Epoch 700, Loss: 0.692409845257748\n",
            "Epoch 800, Loss: 0.6923345111683213\n",
            "Epoch 900, Loss: 0.6922794249507496\n"
          ]
        }
      ]
    },
    {
      "cell_type": "code",
      "source": [
        "# Generate new test data\n",
        "X_test = np.random.rand(2, 10)\n",
        "predictions = predict(X_test, *trained_parameters)\n",
        "\n",
        "# Display the results\n",
        "print(\"\\nPredictions:\")\n",
        "print(predictions)\n"
      ],
      "metadata": {
        "colab": {
          "base_uri": "https://localhost:8080/"
        },
        "id": "KyiQkcQcoJ-R",
        "outputId": "4e0d919a-c471-4cf7-d2b8-4061036fe833"
      },
      "execution_count": 34,
      "outputs": [
        {
          "output_type": "stream",
          "name": "stdout",
          "text": [
            "\n",
            "Predictions:\n",
            "[[1 1 1 1 1 1 1 1 1 1]]\n"
          ]
        }
      ]
    },
    {
      "cell_type": "code",
      "source": [
        "# using tensorflow framework\n",
        "\n",
        "import tensorflow as tf\n",
        "import numpy as np\n"
      ],
      "metadata": {
        "id": "VwOev4oCoLzP"
      },
      "execution_count": 35,
      "outputs": []
    },
    {
      "cell_type": "code",
      "source": [
        "\n",
        "# Generate synthetic data\n",
        "np.random.seed(42)\n",
        "X = np.random.rand(100, 2)  # Two features, 100 data points\n",
        "Y = np.random.randint(0, 2, (100, 1))  # Binary target\n",
        "\n"
      ],
      "metadata": {
        "id": "ch1oArPdozmP"
      },
      "execution_count": 36,
      "outputs": []
    },
    {
      "cell_type": "code",
      "source": [
        "# Hyperparameters\n",
        "input_size = 2\n",
        "hidden_size = 4\n",
        "output_size = 1\n",
        "learning_rate = 0.01\n",
        "epochs = 1000\n",
        "\n"
      ],
      "metadata": {
        "id": "Ebj_0XFKo1sK"
      },
      "execution_count": 37,
      "outputs": []
    },
    {
      "cell_type": "code",
      "source": [
        "# Build the model\n",
        "model = tf.keras.Sequential([\n",
        "    tf.keras.layers.Dense(hidden_size, activation='sigmoid', input_shape=(input_size,), name='hidden_layer'),\n",
        "    tf.keras.layers.Dense(output_size, activation='sigmoid', name='output_layer')\n",
        "])\n",
        "\n"
      ],
      "metadata": {
        "id": "6KwNJE4vo3kF"
      },
      "execution_count": 38,
      "outputs": []
    },
    {
      "cell_type": "code",
      "source": [
        "model.summary()"
      ],
      "metadata": {
        "colab": {
          "base_uri": "https://localhost:8080/"
        },
        "id": "RGNl18fGo6GY",
        "outputId": "79632291-c49d-472a-e524-c99629bdf1e0"
      },
      "execution_count": 39,
      "outputs": [
        {
          "output_type": "stream",
          "name": "stdout",
          "text": [
            "Model: \"sequential_1\"\n",
            "_________________________________________________________________\n",
            " Layer (type)                Output Shape              Param #   \n",
            "=================================================================\n",
            " hidden_layer (Dense)        (None, 4)                 12        \n",
            "                                                                 \n",
            " output_layer (Dense)        (None, 1)                 5         \n",
            "                                                                 \n",
            "=================================================================\n",
            "Total params: 17 (68.00 Byte)\n",
            "Trainable params: 17 (68.00 Byte)\n",
            "Non-trainable params: 0 (0.00 Byte)\n",
            "_________________________________________________________________\n"
          ]
        }
      ]
    },
    {
      "cell_type": "code",
      "source": [
        "# Compile the model\n",
        "model.compile(optimizer=tf.keras.optimizers.SGD(learning_rate=learning_rate),\n",
        "              loss=tf.keras.losses.BinaryCrossentropy(),\n",
        "              metrics=['accuracy'])\n",
        "\n"
      ],
      "metadata": {
        "id": "khWyHkLxo8w_"
      },
      "execution_count": 40,
      "outputs": []
    },
    {
      "cell_type": "code",
      "source": [
        "# Train the model\n",
        "history = model.fit(X, Y, epochs=epochs,verbose=0)\n"
      ],
      "metadata": {
        "id": "05IhDCvoo_kF"
      },
      "execution_count": 46,
      "outputs": []
    },
    {
      "cell_type": "code",
      "source": [
        "# Evaluate the model\n",
        "loss, accuracy = model.evaluate(X, Y)\n",
        "print(f'\\nFinal Loss: {loss}, Final Accuracy: {accuracy}')"
      ],
      "metadata": {
        "colab": {
          "base_uri": "https://localhost:8080/"
        },
        "id": "6LKgy_lIpCZ_",
        "outputId": "8184744b-a227-424e-c60b-a481fea46022"
      },
      "execution_count": 47,
      "outputs": [
        {
          "output_type": "stream",
          "name": "stdout",
          "text": [
            "4/4 [==============================] - 0s 4ms/step - loss: 0.6866 - accuracy: 0.5500\n",
            "\n",
            "Final Loss: 0.6865506172180176, Final Accuracy: 0.550000011920929\n"
          ]
        }
      ]
    },
    {
      "cell_type": "code",
      "source": [
        "# Plot the loss over epochs\n",
        "plt.plot(history.history['loss'])\n",
        "plt.title('Model Loss')\n",
        "plt.xlabel('Epoch')\n",
        "plt.ylabel('Loss')\n",
        "plt.show()\n"
      ],
      "metadata": {
        "colab": {
          "base_uri": "https://localhost:8080/",
          "height": 472
        },
        "id": "MzVgfzTLpHN5",
        "outputId": "b2b3bc44-1cca-4c38-9d13-3e7b03d9b675"
      },
      "execution_count": 48,
      "outputs": [
        {
          "output_type": "display_data",
          "data": {
            "text/plain": [
              "<Figure size 640x480 with 1 Axes>"
            ],
            "image/png": "[encoded data removed]"
          },
          "metadata": {}
        }
      ]
    },
    {
      "cell_type": "code",
      "source": [
        "# Test the trained model with new data\n",
        "X_test = np.random.rand(10, 2)\n",
        "predictions = model.predict(X_test)\n",
        "binary_predictions = (predictions > 0.5).astype(int)\n",
        "\n",
        "# Display the results\n",
        "print(\"\\nPredictions:\")\n",
        "print(binary_predictions)\n"
      ],
      "metadata": {
        "colab": {
          "base_uri": "https://localhost:8080/"
        },
        "id": "A1qZerdqpOJ_",
        "outputId": "066443bb-af83-4ee5-85f8-6e05814a2c35"
      },
      "execution_count": 49,
      "outputs": [
        {
          "output_type": "stream",
          "name": "stdout",
          "text": [
            "1/1 [==============================] - 0s 25ms/step\n",
            "\n",
            "Predictions:\n",
            "[[1]\n",
            " [1]\n",
            " [1]\n",
            " [1]\n",
            " [1]\n",
            " [1]\n",
            " [1]\n",
            " [1]\n",
            " [1]\n",
            " [1]]\n"
          ]
        }
      ]
    },
    {
      "cell_type": "code",
      "source": [],
      "metadata": {
        "id": "JgEfOfxzpPi6"
      },
      "execution_count": 44,
      "outputs": []
    }
  ]
}